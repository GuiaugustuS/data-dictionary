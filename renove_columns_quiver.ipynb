{
 "cells": [
  {
   "cell_type": "code",
   "execution_count": 4,
   "metadata": {},
   "outputs": [],
   "source": [
    "import pandas as pd\n",
    "import os\n",
    "\n",
    "from pyspark.sql import SparkSession\n",
    "import psutil\n",
    "import findspark\n",
    "import multiprocessing\n",
    "import pyspark.sql.functions\n",
    "from pyspark.sql.functions import when, col"
   ]
  },
  {
   "cell_type": "code",
   "execution_count": 5,
   "metadata": {},
   "outputs": [],
   "source": [
    "root_path_quiver = r'G:\\.shortcut-targets-by-id\\1kkcO2EWqo7VqwAVtJEGVmYuTF858en0s\\HDI_DR\\Prepared Tables\\2023\\Quiver\\Prepareds_Abril'\n",
    "root_path_segfy = r'G:\\.shortcut-targets-by-id\\1kkcO2EWqo7VqwAVtJEGVmYuTF858en0s\\HDI_DR\\Prepared Tables\\2023\\Segfy\\Prepareds_Abril'\n",
    "\n",
    "output_path_quiver = r'G:\\.shortcut-targets-by-id\\1kkcO2EWqo7VqwAVtJEGVmYuTF858en0s\\HDI_DR\\Prepared Tables\\2023\\Quiver\\Prepareds_Abril_Ajustados'\n",
    "output_path_segfy = r'G:\\.shortcut-targets-by-id\\1kkcO2EWqo7VqwAVtJEGVmYuTF858en0s\\HDI_DR\\Prepared Tables\\2023\\Segfy\\Prepareds_Abril_Ajustados'\n",
    "\n",
    "files_quiver = [file for file in os.listdir(root_path_quiver) if file.endswith('.parquet')]\n",
    "\n",
    "files_segfy = [file for file in os.listdir(root_path_segfy) if file.endswith('.parquet')]"
   ]
  },
  {
   "cell_type": "code",
   "execution_count": 24,
   "metadata": {},
   "outputs": [
    {
     "name": "stdout",
     "output_type": "stream",
     "text": [
      "Arquivo readyQuiver_prepared_df__HDI AUTO 04042023_3.parquet - Colunas:  65\n",
      "Processamento concluído\n",
      "Arquivo readyQuiver_prepared_df__HDI AUTO 30042023_29.parquet - Colunas:  68\n",
      "Arquivo de saída G:\\.shortcut-targets-by-id\\1kkcO2EWqo7VqwAVtJEGVmYuTF858en0s\\HDI_DR\\Prepared Tables\\2023\\Quiver\\Prepareds_Abril_Ajustados\\readyQuiver_prepared_df__HDI AUTO 30042023_29.parquet salvo\n",
      "Processamento concluído\n",
      "Arquivo readyQuiver_prepared_df__HDI AUTO 29042023_28.parquet - Colunas:  68\n",
      "Arquivo de saída G:\\.shortcut-targets-by-id\\1kkcO2EWqo7VqwAVtJEGVmYuTF858en0s\\HDI_DR\\Prepared Tables\\2023\\Quiver\\Prepareds_Abril_Ajustados\\readyQuiver_prepared_df__HDI AUTO 29042023_28.parquet salvo\n",
      "Processamento concluído\n",
      "Arquivo readyQuiver_prepared_df__HDI AUTO 28042023_27.parquet - Colunas:  68\n",
      "Arquivo de saída G:\\.shortcut-targets-by-id\\1kkcO2EWqo7VqwAVtJEGVmYuTF858en0s\\HDI_DR\\Prepared Tables\\2023\\Quiver\\Prepareds_Abril_Ajustados\\readyQuiver_prepared_df__HDI AUTO 28042023_27.parquet salvo\n",
      "Processamento concluído\n",
      "Arquivo readyQuiver_prepared_df__HDI AUTO 26042023_25.parquet - Colunas:  68\n",
      "Arquivo de saída G:\\.shortcut-targets-by-id\\1kkcO2EWqo7VqwAVtJEGVmYuTF858en0s\\HDI_DR\\Prepared Tables\\2023\\Quiver\\Prepareds_Abril_Ajustados\\readyQuiver_prepared_df__HDI AUTO 26042023_25.parquet salvo\n",
      "Processamento concluído\n",
      "Arquivo readyQuiver_prepared_df__HDI AUTO 12042023_11.parquet - Colunas:  68\n",
      "Arquivo de saída G:\\.shortcut-targets-by-id\\1kkcO2EWqo7VqwAVtJEGVmYuTF858en0s\\HDI_DR\\Prepared Tables\\2023\\Quiver\\Prepareds_Abril_Ajustados\\readyQuiver_prepared_df__HDI AUTO 12042023_11.parquet salvo\n",
      "Processamento concluído\n",
      "Arquivo readyQuiver_prepared_df__HDI AUTO 10042023_9.parquet - Colunas:  65\n",
      "Processamento concluído\n",
      "Arquivo readyQuiver_prepared_df__HDI AUTO 16042023_15.parquet - Colunas:  68\n",
      "Arquivo de saída G:\\.shortcut-targets-by-id\\1kkcO2EWqo7VqwAVtJEGVmYuTF858en0s\\HDI_DR\\Prepared Tables\\2023\\Quiver\\Prepareds_Abril_Ajustados\\readyQuiver_prepared_df__HDI AUTO 16042023_15.parquet salvo\n",
      "Processamento concluído\n",
      "Arquivo readyQuiver_prepared_df__HDI AUTO 07042023_6.parquet - Colunas:  65\n",
      "Processamento concluído\n",
      "Arquivo readyQuiver_prepared_df__HDI AUTO 27042023_26.parquet - Colunas:  68\n",
      "Arquivo de saída G:\\.shortcut-targets-by-id\\1kkcO2EWqo7VqwAVtJEGVmYuTF858en0s\\HDI_DR\\Prepared Tables\\2023\\Quiver\\Prepareds_Abril_Ajustados\\readyQuiver_prepared_df__HDI AUTO 27042023_26.parquet salvo\n",
      "Processamento concluído\n",
      "Arquivo readyQuiver_prepared_df__HDI AUTO 09042023_8.parquet - Colunas:  65\n",
      "Processamento concluído\n",
      "Arquivo readyQuiver_prepared_df__HDI AUTO 01042023_0.parquet - Colunas:  65\n",
      "Processamento concluído\n",
      "Arquivo readyQuiver_prepared_df__HDI AUTO 17042023_16.parquet - Colunas:  68\n",
      "Arquivo de saída G:\\.shortcut-targets-by-id\\1kkcO2EWqo7VqwAVtJEGVmYuTF858en0s\\HDI_DR\\Prepared Tables\\2023\\Quiver\\Prepareds_Abril_Ajustados\\readyQuiver_prepared_df__HDI AUTO 17042023_16.parquet salvo\n",
      "Processamento concluído\n",
      "Arquivo readyQuiver_prepared_df__HDI AUTO 21042023_20.parquet - Colunas:  68\n",
      "Arquivo de saída G:\\.shortcut-targets-by-id\\1kkcO2EWqo7VqwAVtJEGVmYuTF858en0s\\HDI_DR\\Prepared Tables\\2023\\Quiver\\Prepareds_Abril_Ajustados\\readyQuiver_prepared_df__HDI AUTO 21042023_20.parquet salvo\n",
      "Processamento concluído\n",
      "Arquivo readyQuiver_prepared_df__HDI AUTO 20042023_19.parquet - Colunas:  68\n",
      "Arquivo de saída G:\\.shortcut-targets-by-id\\1kkcO2EWqo7VqwAVtJEGVmYuTF858en0s\\HDI_DR\\Prepared Tables\\2023\\Quiver\\Prepareds_Abril_Ajustados\\readyQuiver_prepared_df__HDI AUTO 20042023_19.parquet salvo\n",
      "Processamento concluído\n",
      "Arquivo readyQuiver_prepared_df__HDI AUTO 25042023_24.parquet - Colunas:  68\n",
      "Arquivo de saída G:\\.shortcut-targets-by-id\\1kkcO2EWqo7VqwAVtJEGVmYuTF858en0s\\HDI_DR\\Prepared Tables\\2023\\Quiver\\Prepareds_Abril_Ajustados\\readyQuiver_prepared_df__HDI AUTO 25042023_24.parquet salvo\n",
      "Processamento concluído\n",
      "Arquivo readyQuiver_prepared_df__HDI AUTO 15042023_14.parquet - Colunas:  68\n",
      "Arquivo de saída G:\\.shortcut-targets-by-id\\1kkcO2EWqo7VqwAVtJEGVmYuTF858en0s\\HDI_DR\\Prepared Tables\\2023\\Quiver\\Prepareds_Abril_Ajustados\\readyQuiver_prepared_df__HDI AUTO 15042023_14.parquet salvo\n",
      "Processamento concluído\n",
      "Arquivo readyQuiver_prepared_df__HDI AUTO 11042023_10.parquet - Colunas:  68\n",
      "Arquivo de saída G:\\.shortcut-targets-by-id\\1kkcO2EWqo7VqwAVtJEGVmYuTF858en0s\\HDI_DR\\Prepared Tables\\2023\\Quiver\\Prepareds_Abril_Ajustados\\readyQuiver_prepared_df__HDI AUTO 11042023_10.parquet salvo\n",
      "Processamento concluído\n",
      "Arquivo readyQuiver_prepared_df__HDI AUTO 06042023_5.parquet - Colunas:  65\n",
      "Processamento concluído\n",
      "Arquivo readyQuiver_prepared_df__HDI AUTO 24042023_23.parquet - Colunas:  68\n",
      "Arquivo de saída G:\\.shortcut-targets-by-id\\1kkcO2EWqo7VqwAVtJEGVmYuTF858en0s\\HDI_DR\\Prepared Tables\\2023\\Quiver\\Prepareds_Abril_Ajustados\\readyQuiver_prepared_df__HDI AUTO 24042023_23.parquet salvo\n",
      "Processamento concluído\n",
      "Arquivo readyQuiver_prepared_df__HDI AUTO 05042023_4.parquet - Colunas:  65\n",
      "Processamento concluído\n",
      "Arquivo readyQuiver_prepared_df__HDI AUTO 14042023_13.parquet - Colunas:  68\n",
      "Arquivo de saída G:\\.shortcut-targets-by-id\\1kkcO2EWqo7VqwAVtJEGVmYuTF858en0s\\HDI_DR\\Prepared Tables\\2023\\Quiver\\Prepareds_Abril_Ajustados\\readyQuiver_prepared_df__HDI AUTO 14042023_13.parquet salvo\n",
      "Processamento concluído\n",
      "Arquivo readyQuiver_prepared_df__HDI AUTO 22042023_21.parquet - Colunas:  68\n",
      "Arquivo de saída G:\\.shortcut-targets-by-id\\1kkcO2EWqo7VqwAVtJEGVmYuTF858en0s\\HDI_DR\\Prepared Tables\\2023\\Quiver\\Prepareds_Abril_Ajustados\\readyQuiver_prepared_df__HDI AUTO 22042023_21.parquet salvo\n",
      "Processamento concluído\n",
      "Arquivo readyQuiver_prepared_df__HDI AUTO 19042023_18.parquet - Colunas:  68\n",
      "Arquivo de saída G:\\.shortcut-targets-by-id\\1kkcO2EWqo7VqwAVtJEGVmYuTF858en0s\\HDI_DR\\Prepared Tables\\2023\\Quiver\\Prepareds_Abril_Ajustados\\readyQuiver_prepared_df__HDI AUTO 19042023_18.parquet salvo\n",
      "Processamento concluído\n",
      "Arquivo readyQuiver_prepared_df__HDI AUTO 13042023_12.parquet - Colunas:  68\n",
      "Arquivo de saída G:\\.shortcut-targets-by-id\\1kkcO2EWqo7VqwAVtJEGVmYuTF858en0s\\HDI_DR\\Prepared Tables\\2023\\Quiver\\Prepareds_Abril_Ajustados\\readyQuiver_prepared_df__HDI AUTO 13042023_12.parquet salvo\n",
      "Processamento concluído\n",
      "Arquivo readyQuiver_prepared_df__HDI AUTO 23042023_22.parquet - Colunas:  68\n",
      "Arquivo de saída G:\\.shortcut-targets-by-id\\1kkcO2EWqo7VqwAVtJEGVmYuTF858en0s\\HDI_DR\\Prepared Tables\\2023\\Quiver\\Prepareds_Abril_Ajustados\\readyQuiver_prepared_df__HDI AUTO 23042023_22.parquet salvo\n",
      "Processamento concluído\n",
      "Arquivo readyQuiver_prepared_df__HDI AUTO 18042023_17.parquet - Colunas:  68\n",
      "Arquivo de saída G:\\.shortcut-targets-by-id\\1kkcO2EWqo7VqwAVtJEGVmYuTF858en0s\\HDI_DR\\Prepared Tables\\2023\\Quiver\\Prepareds_Abril_Ajustados\\readyQuiver_prepared_df__HDI AUTO 18042023_17.parquet salvo\n",
      "Processamento concluído\n",
      "Arquivo readyQuiver_prepared_df__HDI AUTO 03042023_2.parquet - Colunas:  65\n",
      "Processamento concluído\n",
      "Arquivo readyQuiver_prepared_df__HDI AUTO 08042023_7.parquet - Colunas:  65\n",
      "Processamento concluído\n",
      "Arquivo readyQuiver_prepared_df__HDI AUTO 02042023_1.parquet - Colunas:  65\n",
      "Processamento concluído\n"
     ]
    }
   ],
   "source": [
    "# Tratamento para remoção de colunas excedentes na Quiver\n",
    "colunas_p_drop = ['FLAG_OUTLIER_FRANQUIA', 'MedianaCotacao', 'OBS_OUTLIER_FRANQUIA']\n",
    "\n",
    "for file in files_quiver:\n",
    "    file_path = os.path.join(root_path_quiver, file)\n",
    "    df = pd.read_parquet(file_path)\n",
    "    print(f'Arquivo {file} - Colunas: ', len(df.columns))\n",
    "\n",
    "    if len(df.columns) > 65:\n",
    "        df = df.drop(columns=colunas_p_drop)\n",
    "\n",
    "        colunas_ordenadas = ('DataNascimento','Bonus','DataCalculo','AnoMesDataCalculo','inicio_semana','idCotacao','FranquiaCasco',\\\n",
    "                    'CodFipe','AnoModelo','PercentualFipe','ContratoSeguradora','PremioLiquidoTotal','origem','fornecedor','IDADE',\\\n",
    "                    'IDADE_VEICULO','Faixa_Etaria_Cond','Flag_Outlier_PercentualFipe','ESTADO_CIVIL','GENERO','COBERTURA_MENOR25ANOS',\\\n",
    "                    'TIPO_FRANQUIA','TIPO_VEICULO','CIA_ANTERIOR','COBERTURA','PRODUTO','TIPO_PRODUTO','GARAGEM','MODALIDADE',\\\n",
    "                    'CIA','TIPO_RENOVACAO','FLAG_PRINCIPAL','PRAZO_SEGURO','FLAG_ZERO_KM','ds_uf','FLAG_CAPITAL','CodSucursal',\\\n",
    "                    'VEIC_CATEGORIA','COMBUSTIVEL_FIPE','COMBUSTIVEL_AJUSTADO','FIRST_COMBUSTIVEL_FIPE','CodRegiao','DscRegiao',\\\n",
    "                    'DscSucursal','SubCatRegional','TipoVeiculo','media_is_zerokm','media_is_ano_modelo','UF_Capital','TipoAjustado',\\\n",
    "                    'GrupoCIA','LMR_Casco','CIA_Anterior_Part','TaxaLMR', 'FLAG_OUTLIER','FLAG_OUTLIER_ZEROKM','Faixa_Idade_Veic',\\\n",
    "                    'Faixa_LMR_Casco','ContagemSeguradoras',\\\n",
    "                    'ContagemCongeneres','CotouHDI','RankingPremioLiquido','RankingFranquia','AgrupamentoRankingPL',\\\n",
    "                    'AgrupamentoRankingFranquia')\n",
    "        \n",
    "        df = df.loc[:,colunas_ordenadas]\n",
    "    \n",
    "        output_file = os.path.join(output_path_quiver, file)\n",
    "        df.to_parquet(output_file, index=False)\n",
    "\n",
    "        print(f\"Arquivo de saída {output_file} salvo\")\n",
    "\n",
    "    print(\"Processamento concluído\")\n"
   ]
  },
  {
   "cell_type": "code",
   "execution_count": 7,
   "metadata": {},
   "outputs": [
    {
     "name": "stdout",
     "output_type": "stream",
     "text": [
      "Arquivo readySegfy_prepared_df__2023-04-04_29.parquet - Colunas:  65\n",
      "Processamento concluído\n",
      "Arquivo readySegfy_prepared_df__2023-04-05_28.parquet - Colunas:  65\n",
      "Processamento concluído\n",
      "Arquivo readySegfy_prepared_df__2023-04-01_27.parquet - Colunas:  65\n",
      "Processamento concluído\n",
      "Arquivo readySegfy_prepared_df__2023-04-02_26.parquet - Colunas:  65\n",
      "Processamento concluído\n",
      "Arquivo readySegfy_prepared_df__2023-04-06_25.parquet - Colunas:  65\n",
      "Processamento concluído\n",
      "Arquivo readySegfy_prepared_df__2023-04-03_24.parquet - Colunas:  65\n",
      "Processamento concluído\n",
      "Arquivo readySegfy_prepared_df__2023-04-30_23.parquet - Colunas:  68\n",
      "Arquivo de saída G:\\.shortcut-targets-by-id\\1kkcO2EWqo7VqwAVtJEGVmYuTF858en0s\\HDI_DR\\Prepared Tables\\2023\\Segfy\\Prepareds_Abril_Ajustados\\readySegfy_prepared_df__2023-04-30_23.parquet salvo\n",
      "Processamento concluído\n",
      "Arquivo readySegfy_prepared_df__2023-04-29_22.parquet - Colunas:  68\n",
      "Arquivo de saída G:\\.shortcut-targets-by-id\\1kkcO2EWqo7VqwAVtJEGVmYuTF858en0s\\HDI_DR\\Prepared Tables\\2023\\Segfy\\Prepareds_Abril_Ajustados\\readySegfy_prepared_df__2023-04-29_22.parquet salvo\n",
      "Processamento concluído\n",
      "Arquivo readySegfy_prepared_df__2023-04-28_21.parquet - Colunas:  68\n",
      "Arquivo de saída G:\\.shortcut-targets-by-id\\1kkcO2EWqo7VqwAVtJEGVmYuTF858en0s\\HDI_DR\\Prepared Tables\\2023\\Segfy\\Prepareds_Abril_Ajustados\\readySegfy_prepared_df__2023-04-28_21.parquet salvo\n",
      "Processamento concluído\n",
      "Arquivo readySegfy_prepared_df__2023-04-27_20.parquet - Colunas:  68\n",
      "Arquivo de saída G:\\.shortcut-targets-by-id\\1kkcO2EWqo7VqwAVtJEGVmYuTF858en0s\\HDI_DR\\Prepared Tables\\2023\\Segfy\\Prepareds_Abril_Ajustados\\readySegfy_prepared_df__2023-04-27_20.parquet salvo\n",
      "Processamento concluído\n",
      "Arquivo readySegfy_prepared_df__2023-04-26_19.parquet - Colunas:  68\n",
      "Arquivo de saída G:\\.shortcut-targets-by-id\\1kkcO2EWqo7VqwAVtJEGVmYuTF858en0s\\HDI_DR\\Prepared Tables\\2023\\Segfy\\Prepareds_Abril_Ajustados\\readySegfy_prepared_df__2023-04-26_19.parquet salvo\n",
      "Processamento concluído\n",
      "Arquivo readySegfy_prepared_df__2023-04-25_18.parquet - Colunas:  68\n",
      "Arquivo de saída G:\\.shortcut-targets-by-id\\1kkcO2EWqo7VqwAVtJEGVmYuTF858en0s\\HDI_DR\\Prepared Tables\\2023\\Segfy\\Prepareds_Abril_Ajustados\\readySegfy_prepared_df__2023-04-25_18.parquet salvo\n",
      "Processamento concluído\n",
      "Arquivo readySegfy_prepared_df__2023-04-24_17.parquet - Colunas:  68\n",
      "Arquivo de saída G:\\.shortcut-targets-by-id\\1kkcO2EWqo7VqwAVtJEGVmYuTF858en0s\\HDI_DR\\Prepared Tables\\2023\\Segfy\\Prepareds_Abril_Ajustados\\readySegfy_prepared_df__2023-04-24_17.parquet salvo\n",
      "Processamento concluído\n",
      "Arquivo readySegfy_prepared_df__2023-04-23_16.parquet - Colunas:  68\n",
      "Arquivo de saída G:\\.shortcut-targets-by-id\\1kkcO2EWqo7VqwAVtJEGVmYuTF858en0s\\HDI_DR\\Prepared Tables\\2023\\Segfy\\Prepareds_Abril_Ajustados\\readySegfy_prepared_df__2023-04-23_16.parquet salvo\n",
      "Processamento concluído\n",
      "Arquivo readySegfy_prepared_df__2023-04-22_15.parquet - Colunas:  68\n",
      "Arquivo de saída G:\\.shortcut-targets-by-id\\1kkcO2EWqo7VqwAVtJEGVmYuTF858en0s\\HDI_DR\\Prepared Tables\\2023\\Segfy\\Prepareds_Abril_Ajustados\\readySegfy_prepared_df__2023-04-22_15.parquet salvo\n",
      "Processamento concluído\n",
      "Arquivo readySegfy_prepared_df__2023-04-21_14.parquet - Colunas:  68\n",
      "Arquivo de saída G:\\.shortcut-targets-by-id\\1kkcO2EWqo7VqwAVtJEGVmYuTF858en0s\\HDI_DR\\Prepared Tables\\2023\\Segfy\\Prepareds_Abril_Ajustados\\readySegfy_prepared_df__2023-04-21_14.parquet salvo\n",
      "Processamento concluído\n",
      "Arquivo readySegfy_prepared_df__2023-04-20_13.parquet - Colunas:  68\n",
      "Arquivo de saída G:\\.shortcut-targets-by-id\\1kkcO2EWqo7VqwAVtJEGVmYuTF858en0s\\HDI_DR\\Prepared Tables\\2023\\Segfy\\Prepareds_Abril_Ajustados\\readySegfy_prepared_df__2023-04-20_13.parquet salvo\n",
      "Processamento concluído\n",
      "Arquivo readySegfy_prepared_df__2023-04-19_12.parquet - Colunas:  68\n",
      "Arquivo de saída G:\\.shortcut-targets-by-id\\1kkcO2EWqo7VqwAVtJEGVmYuTF858en0s\\HDI_DR\\Prepared Tables\\2023\\Segfy\\Prepareds_Abril_Ajustados\\readySegfy_prepared_df__2023-04-19_12.parquet salvo\n",
      "Processamento concluído\n",
      "Arquivo readySegfy_prepared_df__2023-04-18_11.parquet - Colunas:  68\n",
      "Arquivo de saída G:\\.shortcut-targets-by-id\\1kkcO2EWqo7VqwAVtJEGVmYuTF858en0s\\HDI_DR\\Prepared Tables\\2023\\Segfy\\Prepareds_Abril_Ajustados\\readySegfy_prepared_df__2023-04-18_11.parquet salvo\n",
      "Processamento concluído\n",
      "Arquivo readySegfy_prepared_df__2023-04-17_10.parquet - Colunas:  68\n",
      "Arquivo de saída G:\\.shortcut-targets-by-id\\1kkcO2EWqo7VqwAVtJEGVmYuTF858en0s\\HDI_DR\\Prepared Tables\\2023\\Segfy\\Prepareds_Abril_Ajustados\\readySegfy_prepared_df__2023-04-17_10.parquet salvo\n",
      "Processamento concluído\n",
      "Arquivo readySegfy_prepared_df__2023-04-16_9.parquet - Colunas:  68\n",
      "Arquivo de saída G:\\.shortcut-targets-by-id\\1kkcO2EWqo7VqwAVtJEGVmYuTF858en0s\\HDI_DR\\Prepared Tables\\2023\\Segfy\\Prepareds_Abril_Ajustados\\readySegfy_prepared_df__2023-04-16_9.parquet salvo\n",
      "Processamento concluído\n",
      "Arquivo readySegfy_prepared_df__2023-04-15_8.parquet - Colunas:  68\n",
      "Arquivo de saída G:\\.shortcut-targets-by-id\\1kkcO2EWqo7VqwAVtJEGVmYuTF858en0s\\HDI_DR\\Prepared Tables\\2023\\Segfy\\Prepareds_Abril_Ajustados\\readySegfy_prepared_df__2023-04-15_8.parquet salvo\n",
      "Processamento concluído\n",
      "Arquivo readySegfy_prepared_df__2023-04-14_7.parquet - Colunas:  68\n",
      "Arquivo de saída G:\\.shortcut-targets-by-id\\1kkcO2EWqo7VqwAVtJEGVmYuTF858en0s\\HDI_DR\\Prepared Tables\\2023\\Segfy\\Prepareds_Abril_Ajustados\\readySegfy_prepared_df__2023-04-14_7.parquet salvo\n",
      "Processamento concluído\n",
      "Arquivo readySegfy_prepared_df__2023-04-13_6.parquet - Colunas:  68\n",
      "Arquivo de saída G:\\.shortcut-targets-by-id\\1kkcO2EWqo7VqwAVtJEGVmYuTF858en0s\\HDI_DR\\Prepared Tables\\2023\\Segfy\\Prepareds_Abril_Ajustados\\readySegfy_prepared_df__2023-04-13_6.parquet salvo\n",
      "Processamento concluído\n",
      "Arquivo readySegfy_prepared_df__2023-04-12_5.parquet - Colunas:  68\n",
      "Arquivo de saída G:\\.shortcut-targets-by-id\\1kkcO2EWqo7VqwAVtJEGVmYuTF858en0s\\HDI_DR\\Prepared Tables\\2023\\Segfy\\Prepareds_Abril_Ajustados\\readySegfy_prepared_df__2023-04-12_5.parquet salvo\n",
      "Processamento concluído\n",
      "Arquivo readySegfy_prepared_df__2023-04-11_4.parquet - Colunas:  68\n",
      "Arquivo de saída G:\\.shortcut-targets-by-id\\1kkcO2EWqo7VqwAVtJEGVmYuTF858en0s\\HDI_DR\\Prepared Tables\\2023\\Segfy\\Prepareds_Abril_Ajustados\\readySegfy_prepared_df__2023-04-11_4.parquet salvo\n",
      "Processamento concluído\n",
      "Arquivo readySegfy_prepared_df__2023-04-10_3.parquet - Colunas:  65\n",
      "Processamento concluído\n",
      "Arquivo readySegfy_prepared_df__2023-04-09_2.parquet - Colunas:  65\n",
      "Processamento concluído\n",
      "Arquivo readySegfy_prepared_df__2023-04-08_1.parquet - Colunas:  65\n",
      "Processamento concluído\n",
      "Arquivo readySegfy_prepared_df__2023-04-07_0.parquet - Colunas:  65\n",
      "Processamento concluído\n"
     ]
    }
   ],
   "source": [
    "colunas_p_drop = ['FLAG_OUTLIER_FRANQUIA', 'MedianaCotacao', 'OBS_OUTLIER_FRANQUIA']\n",
    "\n",
    "for file_name in files_segfy:\n",
    "    file_path = os.path.join(root_path_segfy, file_name)\n",
    "    df = pd.read_parquet(file_path)\n",
    "    print(f'Arquivo {file_name} - Colunas: ', len(df.columns))\n",
    "\n",
    "    if len(df.columns) > 65:\n",
    "        df = df.drop(columns=colunas_p_drop)\n",
    "\n",
    "        colunas_ordenadas = ('DataNascimento','Bonus','DataCalculo','AnoMesDataCalculo','inicio_semana','idCotacao','FranquiaCasco',\\\n",
    "                            'CodFipe','AnoModelo','PercentualFipe','ContratoSeguradora','PremioLiquidoTotal','origem','fornecedor','IDADE',\\\n",
    "                            'IDADE_VEICULO','Faixa_Etaria_Cond','Flag_Outlier_PercentualFipe','ESTADO_CIVIL','GENERO','COBERTURA_MENOR25ANOS',\\\n",
    "                            'TIPO_FRANQUIA','TIPO_VEICULO','CIA_ANTERIOR','COBERTURA','PRODUTO','TIPO_PRODUTO','GARAGEM','MODALIDADE',\\\n",
    "                            'CIA','TIPO_RENOVACAO','FLAG_PRINCIPAL','PRAZO_SEGURO','FLAG_ZERO_KM','ds_uf','FLAG_CAPITAL','CodSucursal',\\\n",
    "                            'VEIC_CATEGORIA','COMBUSTIVEL_FIPE','COMBUSTIVEL_AJUSTADO','FIRST_COMBUSTIVEL_FIPE','CodRegiao','DscRegiao',\\\n",
    "                            'DscSucursal','SubCatRegional','TipoVeiculo','media_is_zerokm','media_is_ano_modelo','UF_Capital','TipoAjustado',\\\n",
    "                            'GrupoCIA','LMR_Casco','CIA_Anterior_Part','TaxaLMR', 'FLAG_OUTLIER','FLAG_OUTLIER_ZEROKM','Faixa_Idade_Veic',\\\n",
    "                            'Faixa_LMR_Casco','ContagemSeguradoras',\\\n",
    "                            'ContagemCongeneres','CotouHDI','RankingPremioLiquido','RankingFranquia','AgrupamentoRankingPL',\\\n",
    "                            'AgrupamentoRankingFranquia')\n",
    "        \n",
    "        df = df.loc[:,colunas_ordenadas]\n",
    "    \n",
    "        output_file = os.path.join(output_path_segfy, file_name)\n",
    "        df.to_parquet(output_file, index=False)\n",
    "\n",
    "        print(f\"Arquivo de saída {output_file} salvo\")\n",
    "\n",
    "    print(\"Processamento concluído\")\n"
   ]
  },
  {
   "cell_type": "code",
   "execution_count": null,
   "metadata": {},
   "outputs": [],
   "source": [
    "df.head()"
   ]
  },
  {
   "cell_type": "code",
   "execution_count": 18,
   "metadata": {},
   "outputs": [
    {
     "name": "stdout",
     "output_type": "stream",
     "text": [
      "68\n",
      "Index(['DataNascimento', 'Bonus', 'DataCalculo', 'AnoMesDataCalculo',\n",
      "       'inicio_semana', 'idCotacao', 'FranquiaCasco', 'CodFipe', 'AnoModelo',\n",
      "       'PercentualFipe', 'ContratoSeguradora', 'PremioLiquidoTotal', 'origem',\n",
      "       'fornecedor', 'IDADE', 'IDADE_VEICULO', 'Faixa_Etaria_Cond',\n",
      "       'Flag_Outlier_PercentualFipe', 'ESTADO_CIVIL', 'GENERO',\n",
      "       'COBERTURA_MENOR25ANOS', 'TIPO_FRANQUIA', 'TIPO_VEICULO',\n",
      "       'CIA_ANTERIOR', 'COBERTURA', 'PRODUTO', 'TIPO_PRODUTO', 'GARAGEM',\n",
      "       'MODALIDADE', 'CIA', 'TIPO_RENOVACAO', 'FLAG_PRINCIPAL', 'PRAZO_SEGURO',\n",
      "       'FLAG_ZERO_KM', 'ds_uf', 'FLAG_CAPITAL', 'CodSucursal',\n",
      "       'VEIC_CATEGORIA', 'COMBUSTIVEL_FIPE', 'COMBUSTIVEL_AJUSTADO',\n",
      "       'FIRST_COMBUSTIVEL_FIPE', 'CodRegiao', 'DscRegiao', 'DscSucursal',\n",
      "       'SubCatRegional', 'TipoVeiculo', 'media_is_zerokm',\n",
      "       'media_is_ano_modelo', 'UF_Capital', 'TipoAjustado', 'GrupoCIA',\n",
      "       'LMR_Casco', 'CIA_Anterior_Part', 'TaxaLMR', 'FLAG_OUTLIER',\n",
      "       'FLAG_OUTLIER_ZEROKM', 'Faixa_Idade_Veic', 'Faixa_LMR_Casco',\n",
      "       'FLAG_OUTLIER_FRANQUIA', 'MedianaCotacao', 'OBS_OUTLIER_FRANQUIA',\n",
      "       'ContagemSeguradoras', 'ContagemCongeneres', 'CotouHDI',\n",
      "       'RankingPremioLiquido', 'RankingFranquia', 'AgrupamentoRankingPL',\n",
      "       'AgrupamentoRankingFranquia'],\n",
      "      dtype='object')\n"
     ]
    }
   ],
   "source": [
    "file_path = os.path.join(root_path_segfy, 'readySegfy_prepared_df__2023-04-11_4.parquet')\n",
    "df_sem_tratar = pd.read_parquet(file_path)\n",
    "print(len(df_sem_tratar.columns))\n",
    "print(df_sem_tratar.columns)\n",
    "sem_tratar = df_sem_tratar.columns\n"
   ]
  },
  {
   "cell_type": "code",
   "execution_count": 19,
   "metadata": {},
   "outputs": [
    {
     "name": "stdout",
     "output_type": "stream",
     "text": [
      "65\n",
      "Index(['DataNascimento', 'Bonus', 'DataCalculo', 'AnoMesDataCalculo',\n",
      "       'inicio_semana', 'idCotacao', 'FranquiaCasco', 'CodFipe', 'AnoModelo',\n",
      "       'PercentualFipe', 'ContratoSeguradora', 'PremioLiquidoTotal', 'origem',\n",
      "       'fornecedor', 'IDADE', 'IDADE_VEICULO', 'Faixa_Etaria_Cond',\n",
      "       'Flag_Outlier_PercentualFipe', 'ESTADO_CIVIL', 'GENERO',\n",
      "       'COBERTURA_MENOR25ANOS', 'TIPO_FRANQUIA', 'TIPO_VEICULO',\n",
      "       'CIA_ANTERIOR', 'COBERTURA', 'PRODUTO', 'TIPO_PRODUTO', 'GARAGEM',\n",
      "       'MODALIDADE', 'CIA', 'TIPO_RENOVACAO', 'FLAG_PRINCIPAL', 'PRAZO_SEGURO',\n",
      "       'FLAG_ZERO_KM', 'ds_uf', 'FLAG_CAPITAL', 'CodSucursal',\n",
      "       'VEIC_CATEGORIA', 'COMBUSTIVEL_FIPE', 'COMBUSTIVEL_AJUSTADO',\n",
      "       'FIRST_COMBUSTIVEL_FIPE', 'CodRegiao', 'DscRegiao', 'DscSucursal',\n",
      "       'SubCatRegional', 'TipoVeiculo', 'media_is_zerokm',\n",
      "       'media_is_ano_modelo', 'UF_Capital', 'TipoAjustado', 'GrupoCIA',\n",
      "       'LMR_Casco', 'CIA_Anterior_Part', 'TaxaLMR', 'FLAG_OUTLIER',\n",
      "       'FLAG_OUTLIER_ZEROKM', 'Faixa_Idade_Veic', 'Faixa_LMR_Casco',\n",
      "       'ContagemSeguradoras', 'ContagemCongeneres', 'CotouHDI',\n",
      "       'RankingPremioLiquido', 'RankingFranquia', 'AgrupamentoRankingPL',\n",
      "       'AgrupamentoRankingFranquia'],\n",
      "      dtype='object')\n"
     ]
    }
   ],
   "source": [
    "file_path = os.path.join(output_path_segfy, 'readySegfy_prepared_df__2023-04-11_4.parquet')\n",
    "df_tratado = pd.read_parquet(file_path)\n",
    "print(len(df_tratado.columns))\n",
    "print(df_tratado.columns)\n",
    "tratado = df_tratado.columns\n"
   ]
  },
  {
   "cell_type": "code",
   "execution_count": 23,
   "metadata": {},
   "outputs": [
    {
     "name": "stdout",
     "output_type": "stream",
     "text": [
      "False\n"
     ]
    }
   ],
   "source": [
    "# Valida se o df_sem_tratar é igual ao df_tratado\n",
    "\n",
    "if len(tratado) == len(sem_tratar):\n",
    "    print(f'True')\n",
    "else:\n",
    "    print(f'False')"
   ]
  },
  {
   "cell_type": "code",
   "execution_count": 10,
   "metadata": {},
   "outputs": [
    {
     "data": {
      "text/plain": [
       "'OBS_OUTLIER_FRANQUIA'"
      ]
     },
     "execution_count": 10,
     "metadata": {},
     "output_type": "execute_result"
    }
   ],
   "source": [
    "colunas = 'FLAG_OUTLIER_FRANQUIA'\n",
    "'MedianaCotacao'\n",
    "'OBS_OUTLIER_FRANQUIA'"
   ]
  },
  {
   "cell_type": "code",
   "execution_count": 11,
   "metadata": {},
   "outputs": [],
   "source": [
    "colunas_ordenadas = ('DataNascimento','Bonus','DataCalculo','AnoMesDataCalculo','inicio_semana','idCotacao','FranquiaCasco',\\\n",
    "                            'CodFipe','AnoModelo','PercentualFipe','ContratoSeguradora','PremioLiquidoTotal','origem','fornecedor','IDADE',\\\n",
    "                            'IDADE_VEICULO','Faixa_Etaria_Cond','Flag_Outlier_PercentualFipe','ESTADO_CIVIL','GENERO','COBERTURA_MENOR25ANOS',\\\n",
    "                            'TIPO_FRANQUIA','TIPO_VEICULO','CIA_ANTERIOR','COBERTURA','PRODUTO','TIPO_PRODUTO','GARAGEM','MODALIDADE',\\\n",
    "                            'CIA','TIPO_RENOVACAO','FLAG_PRINCIPAL','PRAZO_SEGURO','FLAG_ZERO_KM','ds_uf','FLAG_CAPITAL','CodSucursal',\\\n",
    "                            'VEIC_CATEGORIA','COMBUSTIVEL_FIPE','COMBUSTIVEL_AJUSTADO','FIRST_COMBUSTIVEL_FIPE','CodRegiao','DscRegiao',\\\n",
    "                            'DscSucursal','SubCatRegional','TipoVeiculo','media_is_zerokm','media_is_ano_modelo','UF_Capital','TipoAjustado',\\\n",
    "                            'GrupoCIA','LMR_Casco','CIA_Anterior_Part','TaxaLMR', 'FLAG_OUTLIER','FLAG_OUTLIER_ZEROKM','Faixa_Idade_Veic',\\\n",
    "                            'Faixa_LMR_Casco','ContagemSeguradoras',\\\n",
    "                            'ContagemCongeneres','CotouHDI','RankingPremioLiquido','RankingFranquia','AgrupamentoRankingPL',\\\n",
    "                            'AgrupamentoRankingFranquia')"
   ]
  },
  {
   "cell_type": "code",
   "execution_count": null,
   "metadata": {},
   "outputs": [],
   "source": [
    "df.select"
   ]
  },
  {
   "cell_type": "code",
   "execution_count": 5,
   "metadata": {},
   "outputs": [],
   "source": [
    "dataframes_marco = pd.concat(full_dataframes, axis=0, ignore_index=False)\n",
    "\n"
   ]
  },
  {
   "cell_type": "code",
   "execution_count": 6,
   "metadata": {},
   "outputs": [
    {
     "data": {
      "text/html": [
       "<div>\n",
       "<style scoped>\n",
       "    .dataframe tbody tr th:only-of-type {\n",
       "        vertical-align: middle;\n",
       "    }\n",
       "\n",
       "    .dataframe tbody tr th {\n",
       "        vertical-align: top;\n",
       "    }\n",
       "\n",
       "    .dataframe thead th {\n",
       "        text-align: right;\n",
       "    }\n",
       "</style>\n",
       "<table border=\"1\" class=\"dataframe\">\n",
       "  <thead>\n",
       "    <tr style=\"text-align: right;\">\n",
       "      <th></th>\n",
       "      <th>count_cot</th>\n",
       "    </tr>\n",
       "    <tr>\n",
       "      <th>criado_em</th>\n",
       "      <th></th>\n",
       "    </tr>\n",
       "  </thead>\n",
       "  <tbody>\n",
       "    <tr>\n",
       "      <th>31/03/2023</th>\n",
       "      <td>226128</td>\n",
       "    </tr>\n",
       "    <tr>\n",
       "      <th>30/03/2023</th>\n",
       "      <td>252279</td>\n",
       "    </tr>\n",
       "    <tr>\n",
       "      <th>29/03/2023</th>\n",
       "      <td>273524</td>\n",
       "    </tr>\n",
       "    <tr>\n",
       "      <th>28/03/2023</th>\n",
       "      <td>287498</td>\n",
       "    </tr>\n",
       "    <tr>\n",
       "      <th>27/03/2023</th>\n",
       "      <td>311044</td>\n",
       "    </tr>\n",
       "    <tr>\n",
       "      <th>26/03/2023</th>\n",
       "      <td>5924</td>\n",
       "    </tr>\n",
       "    <tr>\n",
       "      <th>25/03/2023</th>\n",
       "      <td>19017</td>\n",
       "    </tr>\n",
       "    <tr>\n",
       "      <th>24/03/2023</th>\n",
       "      <td>226612</td>\n",
       "    </tr>\n",
       "    <tr>\n",
       "      <th>23/03/2023</th>\n",
       "      <td>250710</td>\n",
       "    </tr>\n",
       "    <tr>\n",
       "      <th>22/03/2023</th>\n",
       "      <td>242876</td>\n",
       "    </tr>\n",
       "    <tr>\n",
       "      <th>21/03/2023</th>\n",
       "      <td>262614</td>\n",
       "    </tr>\n",
       "    <tr>\n",
       "      <th>20/03/2023</th>\n",
       "      <td>291254</td>\n",
       "    </tr>\n",
       "    <tr>\n",
       "      <th>19/03/2023</th>\n",
       "      <td>6225</td>\n",
       "    </tr>\n",
       "    <tr>\n",
       "      <th>18/03/2023</th>\n",
       "      <td>18293</td>\n",
       "    </tr>\n",
       "    <tr>\n",
       "      <th>17/03/2023</th>\n",
       "      <td>218028</td>\n",
       "    </tr>\n",
       "    <tr>\n",
       "      <th>16/03/2023</th>\n",
       "      <td>247655</td>\n",
       "    </tr>\n",
       "    <tr>\n",
       "      <th>15/03/2023</th>\n",
       "      <td>257932</td>\n",
       "    </tr>\n",
       "    <tr>\n",
       "      <th>14/03/2023</th>\n",
       "      <td>246751</td>\n",
       "    </tr>\n",
       "    <tr>\n",
       "      <th>13/03/2023</th>\n",
       "      <td>270899</td>\n",
       "    </tr>\n",
       "    <tr>\n",
       "      <th>12/03/2023</th>\n",
       "      <td>5823</td>\n",
       "    </tr>\n",
       "    <tr>\n",
       "      <th>11/03/2023</th>\n",
       "      <td>19209</td>\n",
       "    </tr>\n",
       "    <tr>\n",
       "      <th>10/03/2023</th>\n",
       "      <td>226782</td>\n",
       "    </tr>\n",
       "    <tr>\n",
       "      <th>09/03/2023</th>\n",
       "      <td>222048</td>\n",
       "    </tr>\n",
       "    <tr>\n",
       "      <th>08/03/2023</th>\n",
       "      <td>251573</td>\n",
       "    </tr>\n",
       "    <tr>\n",
       "      <th>07/03/2023</th>\n",
       "      <td>283334</td>\n",
       "    </tr>\n",
       "    <tr>\n",
       "      <th>06/03/2023</th>\n",
       "      <td>279075</td>\n",
       "    </tr>\n",
       "    <tr>\n",
       "      <th>05/03/2023</th>\n",
       "      <td>10866</td>\n",
       "    </tr>\n",
       "    <tr>\n",
       "      <th>04/03/2023</th>\n",
       "      <td>23445</td>\n",
       "    </tr>\n",
       "    <tr>\n",
       "      <th>03/03/2023</th>\n",
       "      <td>227646</td>\n",
       "    </tr>\n",
       "    <tr>\n",
       "      <th>02/03/2023</th>\n",
       "      <td>267442</td>\n",
       "    </tr>\n",
       "    <tr>\n",
       "      <th>01/03/2023</th>\n",
       "      <td>267269</td>\n",
       "    </tr>\n",
       "  </tbody>\n",
       "</table>\n",
       "</div>"
      ],
      "text/plain": [
       "            count_cot\n",
       "criado_em            \n",
       "31/03/2023     226128\n",
       "30/03/2023     252279\n",
       "29/03/2023     273524\n",
       "28/03/2023     287498\n",
       "27/03/2023     311044\n",
       "26/03/2023       5924\n",
       "25/03/2023      19017\n",
       "24/03/2023     226612\n",
       "23/03/2023     250710\n",
       "22/03/2023     242876\n",
       "21/03/2023     262614\n",
       "20/03/2023     291254\n",
       "19/03/2023       6225\n",
       "18/03/2023      18293\n",
       "17/03/2023     218028\n",
       "16/03/2023     247655\n",
       "15/03/2023     257932\n",
       "14/03/2023     246751\n",
       "13/03/2023     270899\n",
       "12/03/2023       5823\n",
       "11/03/2023      19209\n",
       "10/03/2023     226782\n",
       "09/03/2023     222048\n",
       "08/03/2023     251573\n",
       "07/03/2023     283334\n",
       "06/03/2023     279075\n",
       "05/03/2023      10866\n",
       "04/03/2023      23445\n",
       "03/03/2023     227646\n",
       "02/03/2023     267442\n",
       "01/03/2023     267269"
      ]
     },
     "execution_count": 6,
     "metadata": {},
     "output_type": "execute_result"
    }
   ],
   "source": [
    "dataframes_marco.groupby(['criado_em']).agg(count_cot=('id_cotacao', 'count')).sort_values('criado_em', ascending=False)"
   ]
  },
  {
   "cell_type": "code",
   "execution_count": null,
   "metadata": {},
   "outputs": [],
   "source": []
  },
  {
   "cell_type": "code",
   "execution_count": null,
   "metadata": {},
   "outputs": [
    {
     "name": "stdout",
     "output_type": "stream",
     "text": [
      "31.76630401611328 disponível. 16 será alocada nesse processo. 8 núcleos do processador serão envolvidos no processo\n"
     ]
    }
   ],
   "source": [
    "total_memory = psutil.virtual_memory().total / (1024**3)\n",
    "memory_alocated = round(total_memory / 2)\n",
    "num_cores = multiprocessing.cpu_count()\n",
    "print(f'{total_memory} disponível. {memory_alocated} será alocada nesse processo. {num_cores} núcleos do processador serão envolvidos no processo')\n",
    "spark = \"\"\n",
    "\n",
    "findspark.init()\n",
    "spark = SparkSession.builder.master(\"local[*]\") \\\n",
    "    .appName(\"source_archive\") \\\n",
    "    .config(\"spark.executor.memory\", f\"{memory_alocated}g\") \\\n",
    "    .config(\"spark.executor.instances\", f\"{num_cores}\") \\\n",
    "    .getOrCreate()"
   ]
  },
  {
   "cell_type": "code",
   "execution_count": 32,
   "metadata": {},
   "outputs": [],
   "source": [
    "list_of_csv_full_dfs = []\n",
    "for file in files:\n",
    "    full_df = spark.read.csv(os.path.join(root_path_63, file), sep=\",\", encoding=\"UTF-8\", inferSchema=True, header=True)\n",
    "    list_of_csv_full_dfs.append(full_df)"
   ]
  },
  {
   "cell_type": "code",
   "execution_count": 33,
   "metadata": {},
   "outputs": [
    {
     "name": "stdout",
     "output_type": "stream",
     "text": [
      "['result_id', 'id_cotacao', 'item_id', 'contrato_seguradora', 'referencia', 'criado_em', 'tipo_segurado', 'tipo_renovacao', 'sinistro_ultimo_ano', 'cia_renovacao', 'fipe', 'veiculo', 'capacidade', 'ano_modelo', 'zerokm', 'combustivel', 'modalidade', 'Cobertura', 'prazo_do_seguro', 'percentual_fipe', 'categoria', 'cep_pernoite', 'descricao_franquia', 'bonus', 'comissao', 'data_nascimento', 'sexo', 'estado_civil', 'cobertura_18_25', 'data_habilitacao', 'uso_veiculo', 'garagem_residential', 'garagem_trabalho', 'garagem_estudo', 'is_casco', 'is_materiais', 'is_corporais', 'is_morais', 'is_invalidez', 'is_morte', 'is_desp_extra', 'acessorios', 'equipamento', 'blindagem', 'kitgas', 'franquia', 'premio_casco', 'premio_dm', 'premio_dc', 'premio_dmo', 'premio_ai', 'premio_a24', 'premio_vidros', 'premio_cr', 'premio_liquido_total', 'premio_bruto', 'extensao_0km', 'assis24hs', 'vidros', 'carro_reserva', 'principal', 'Produto', 'premio_am', 'condutorSexo'] \n",
      " 64\n"
     ]
    }
   ],
   "source": [
    "dataframes_w_new_col = []\n",
    "for df in list_of_csv_full_dfs:\n",
    "    df = df.withColumn(\"condutorSexo\", col(\"sexo\").alias(\"condutorSexo\"))\n",
    "    dataframes_w_new_col.append(df)\n",
    "\n",
    "dataframe_64 = list(dataframes_w_new_col[0].columns)\n",
    "print(dataframe_64,'\\n', len(dataframe_64))"
   ]
  },
  {
   "cell_type": "code",
   "execution_count": 34,
   "metadata": {},
   "outputs": [
    {
     "name": "stdout",
     "output_type": "stream",
     "text": [
      "['AUTO_F2_20220228_67.csv', 'AUTO_F2_20220301_69.csv', 'AUTO_F2_20220304_69.csv', 'AUTO_F2_20220310_67.csv', 'AUTO_F2_20220320_67.csv', 'AUTO_F2_20220331_67.csv']\n"
     ]
    }
   ],
   "source": [
    "root_path_general = r'C:\\Users\\leonardo\\DR\\Dados HDI\\SourceArchives\\Infocap\\2022\\Marco\\Arquivos\\Others'\n",
    "files = os.listdir(root_path_general)\n",
    "print(files)\n",
    "\n",
    "full_dataframes = []\n",
    "for file in files:\n",
    "    df = spark.read.csv(os.path.join(root_path_general, file), sep=\",\", encoding=\"UTF-8\", inferSchema=True, header=True)\n",
    "    df = df.select(dataframe_64)\n",
    "    full_dataframes.append(df)"
   ]
  },
  {
   "cell_type": "code",
   "execution_count": 35,
   "metadata": {},
   "outputs": [
    {
     "name": "stdout",
     "output_type": "stream",
     "text": [
      "Linhas antes:  7325114\n"
     ]
    }
   ],
   "source": [
    "dfs_concatenados = dataframes_w_new_col[0]\n",
    "for df in dataframes_w_new_col[1:]:\n",
    "    dfs_concatenados = dfs_concatenados.union(df)\n",
    "\n",
    "full_dataframes.append(dfs_concatenados)\n",
    "\n",
    "df_geral = full_dataframes[0]\n",
    "for df in full_dataframes[1:]:\n",
    "    df_geral = df_geral.union(df)\n",
    "\n",
    "print('Linhas antes: ', df_geral.count())"
   ]
  },
  {
   "cell_type": "code",
   "execution_count": 38,
   "metadata": {},
   "outputs": [],
   "source": [
    "df_geral.coalesce(1) \\\n",
    ".write \\\n",
    ".format(\"csv\") \\\n",
    ".option(\"header\", True) \\\n",
    ".save(r'C:\\Users\\leonardo\\DR\\Dados HDI\\SourceArchives\\Infocap\\2022\\Marco\\compilado_geral_marco_infocap.csv')"
   ]
  },
  {
   "cell_type": "code",
   "execution_count": 37,
   "metadata": {},
   "outputs": [
    {
     "name": "stdout",
     "output_type": "stream",
     "text": [
      "Linhas depois:  6968670\n"
     ]
    }
   ],
   "source": [
    "df_geral = df_geral.dropDuplicates()\n",
    "print('Linhas depois: ', df_geral.count())"
   ]
  },
  {
   "cell_type": "code",
   "execution_count": null,
   "metadata": {},
   "outputs": [],
   "source": []
  }
 ],
 "metadata": {
  "kernelspec": {
   "display_name": "base",
   "language": "python",
   "name": "python3"
  },
  "language_info": {
   "codemirror_mode": {
    "name": "ipython",
    "version": 3
   },
   "file_extension": ".py",
   "mimetype": "text/x-python",
   "name": "python",
   "nbconvert_exporter": "python",
   "pygments_lexer": "ipython3",
   "version": "3.9.13"
  },
  "orig_nbformat": 4,
  "vscode": {
   "interpreter": {
    "hash": "ad2bdc8ecc057115af97d19610ffacc2b4e99fae6737bb82f5d7fb13d2f2c186"
   }
  }
 },
 "nbformat": 4,
 "nbformat_minor": 2
}
