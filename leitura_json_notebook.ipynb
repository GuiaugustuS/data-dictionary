{
 "cells": [
  {
   "cell_type": "markdown",
   "metadata": {},
   "source": [
    "Código criado para leitura de scripts em notebooks ipynb com extenção .json "
   ]
  },
  {
   "cell_type": "code",
   "execution_count": 5,
   "metadata": {},
   "outputs": [
    {
     "name": "stdout",
     "output_type": "stream",
     "text": [
      "C:\\GitHub\\PY-DEV-002_HDI\\notebooks\\_1_if_control.ipynb\n",
      "\n",
      "C:\\GitHub\\PY-DEV-002_HDI\\notebooks\\_2_for_control.ipynb\n",
      "\n",
      "C:\\GitHub\\PY-DEV-002_HDI\\notebooks\\_3_while_control.ipynb\n",
      "\n",
      "Arquivo CSV criado com sucesso: C:\\GitHub\\PY-DEV-002_HDI\\notebooks\\_3_while_control.csv\n"
     ]
    }
   ],
   "source": [
    "import nbformat\n",
    "import csv\n",
    "import os\n",
    "\n",
    "# Pasta onde estão localizados os arquivos JSON\n",
    "json_folder = r\"C:\\GitHub\\PY-DEV-002_HDI\\notebooks\"\n",
    "\n",
    "# Iterar sobre os arquivos da pasta\n",
    "for file_name in os.listdir(json_folder):\n",
    "    # Verificar se é um arquivo JSON\n",
    "    if file_name.endswith(\".ipynb\"):\n",
    "        # Caminho completo para o arquivo JSON\n",
    "        json_file = os.path.join(json_folder, file_name)\n",
    "        print(json_file)\n",
    "        print()\n",
    "\n",
    "        # Cria a função que recebe dois parâmetros: json_file, que é o caminho para o arquivo JSON de entrada, e output_file, que é o caminho para o arquivo CSV de saída.\n",
    "        def process_notebook(json_file, output_file): \n",
    "            # Abre o arquivo JSON pelo caminho especificado 'json_file' em modo de leitura (\"r\") com tratamento UTF-8, garantindo a leitura correta de caracteres especiais e acentos.\n",
    "            with open(json_file, \"r\", encoding=\"utf-8\") as file: \n",
    "                # A opção nbformat.NO_CONVERT mantém o conteúdo do arquivo JSON do notebook sem conversões ou atualizações ao lê-lo.\n",
    "                nb = nbformat.read(file, nbformat.NO_CONVERT) \n",
    "            \n",
    "            # Cria uma lista vazia que receberá as linhas geradas no loop abaixo.\n",
    "            rows = [] \n",
    "\n",
    "            for cell in nb.cells:\n",
    "                # Filtra as células do notebook com base no campo \"cell_type\" e seleciona apenas aquelas em que o valor é \"code\".\n",
    "                if cell.cell_type == \"code\": \n",
    "                    # Atribui o valor do campo cell_type da célula atual à variável cell_type.\n",
    "                    cell_type = cell.cell_type\n",
    "                    # Atribui o valor do campo source da célula atual à variável source. O método .strip() remove espaços em branco extras no início e no final da string.\n",
    "                    source = cell.source.strip()\n",
    "                    # Conta 1 se a source estiver preenchida, 0 caso contrário\n",
    "                    count_code = 1 if source else 0 \n",
    "                    # Insere as variáveis \"cell_type\", \"source\", \"count_code\" na lista 'rows'\n",
    "                    rows.append([cell_type, source, count_code, file_name])\n",
    "\n",
    "            # Abre o arquivo de saída especificado pelo caminho output_file em modo de escrita ('w'), com tratamento UTF-8 e sem adicionar novas linhas (newline='').\n",
    "            with open(output_file, 'w', encoding='utf-8', newline='') as file: \n",
    "                # Cria um objeto de escrita CSV que está associado ao arquivo file. Esse objeto será usado posteriormente para escrever dados no arquivo CSV.\n",
    "                writer = csv.writer(file)\n",
    "                # Cria o cabeçalho no arquivo CSV usando o objeto writer. Os valores passados como argumento são os nomes das colunas que serão escritas no arquivo CSV: \"cell_type\", \"source\", \"count_code\" e \"file_name\".\n",
    "                writer.writerow([\"cell_type\", \"source\", \"count_code\", \"file_name\"]) \n",
    "                # Escreve todas as linhas de dados da lista rows no arquivo CSV usando o objeto writer.\n",
    "                writer.writerows(rows)\n",
    "\n",
    "# Extrai o nome do arquivo JSON\n",
    "json_name = os.path.basename(json_file)\n",
    "\n",
    "# Constrói o caminho para o arquivo CSV de saída\n",
    "output_file = os.path.join(json_folder, json_name.replace(\".ipynb\", \".csv\"))\n",
    "\n",
    "# Processa o notebook e exporta para CSV\n",
    "process_notebook(json_file, output_file)\n",
    "\n",
    "# Imprime mensagem de sucesso\n",
    "print(\"Arquivo CSV criado com sucesso:\", output_file)\n"
   ]
  },
  {
   "cell_type": "code",
   "execution_count": 6,
   "metadata": {},
   "outputs": [
    {
     "data": {
      "text/plain": [
       "'\\n\\nimport json\\nimport nbformat\\nimport os\\n\\nsample_data = os.path.join(os.getcwd(), r\"C:\\\\GitHub\\\\PY-DEV-002_HDI\\\\P_02_Fundamentos\\\\M_01_Tipos\\\\T_01_Primitivos\")\\njson_name = \"_1_1_numeric_int_type.ipynb\"\\njson_file = os.path.join(sample_data, json_name)\\n\\nprint(json_file)\\n\\n'"
      ]
     },
     "execution_count": 6,
     "metadata": {},
     "output_type": "execute_result"
    }
   ],
   "source": [
    "\"\"\"\n",
    "\n",
    "import json\n",
    "import nbformat\n",
    "import os\n",
    "\n",
    "sample_data = os.path.join(os.getcwd(), r\"C:\\GitHub\\PY-DEV-002_HDI\\P_02_Fundamentos\\M_01_Tipos\\T_01_Primitivos\")\n",
    "json_name = \"_1_1_numeric_int_type.ipynb\"\n",
    "json_file = os.path.join(sample_data, json_name)\n",
    "\n",
    "print(json_file)\n",
    "\n",
    "\"\"\""
   ]
  },
  {
   "cell_type": "code",
   "execution_count": 7,
   "metadata": {},
   "outputs": [
    {
     "data": {
      "text/plain": [
       "\"\\n\\n# Abre o arquivo JSON em modo de leitura\\nwith open(json_file, 'r') as meu_arquivo_json:\\n    # Carrega o conteúdo do arquivo JSON para a variável 'dados'\\n    dados = json.load(meu_arquivo_json)\\n\\n    # Imprime a estrutura do JSON\\n    json_str = json.dumps(dados, indent=4)\\nprint(json_str)\\n\\n\""
      ]
     },
     "execution_count": 7,
     "metadata": {},
     "output_type": "execute_result"
    }
   ],
   "source": [
    "\"\"\"\n",
    "\n",
    "# Abre o arquivo JSON em modo de leitura\n",
    "with open(json_file, 'r') as meu_arquivo_json:\n",
    "    # Carrega o conteúdo do arquivo JSON para a variável 'dados'\n",
    "    dados = json.load(meu_arquivo_json)\n",
    "\n",
    "    # Imprime a estrutura do JSON\n",
    "    json_str = json.dumps(dados, indent=4)\n",
    "print(json_str)\n",
    "\n",
    "\"\"\""
   ]
  },
  {
   "cell_type": "code",
   "execution_count": 8,
   "metadata": {},
   "outputs": [
    {
     "data": {
      "text/plain": [
       "'\\n\\ndef process_notebook(json_file):\\n    with open(json_file, \"r\", encoding=\"utf-8\") as file:\\n        nb = nbformat.read(file, nbformat.NO_CONVERT)\\n\\n    for cell in nb.cells:\\n        if cell.cell_type == \"code\":\\n            print(\"Cell Type:\", cell.cell_type)\\n            print(\"Source:\", cell.source)\\n            print(\"---\")\\n\\nprocess_notebook(json_file)\\n\\n'"
      ]
     },
     "execution_count": 8,
     "metadata": {},
     "output_type": "execute_result"
    }
   ],
   "source": [
    "\"\"\"\n",
    "\n",
    "def process_notebook(json_file):\n",
    "    with open(json_file, \"r\", encoding=\"utf-8\") as file:\n",
    "        nb = nbformat.read(file, nbformat.NO_CONVERT)\n",
    "\n",
    "    for cell in nb.cells:\n",
    "        if cell.cell_type == \"code\":\n",
    "            print(\"Cell Type:\", cell.cell_type)\n",
    "            print(\"Source:\", cell.source)\n",
    "            print(\"---\")\n",
    "\n",
    "process_notebook(json_file)\n",
    "\n",
    "\"\"\""
   ]
  },
  {
   "cell_type": "code",
   "execution_count": 9,
   "metadata": {},
   "outputs": [
    {
     "data": {
      "text/plain": [
       "'\\nimport nbformat\\nimport csv\\n\\ndef process_notebook(json_file, output_file): # Cria a função recebe dois parâmetros: json_file, que é o caminho para o arquivo JSON de entrada, e output_file, que é o caminho para o arquivo CSV de saída.\\n    with open(json_file, \"r\", encoding=\"utf-8\") as file: # Abre o arquivo JSON pelo caminho especificado \\'json_file\\' em modo de leitura (\"r\") com tratamento UTF-8, garantindo a leitura correta de caracteres especiais e acentos.\\n         nb = nbformat.read(file, nbformat.NO_CONVERT) # A opção nbformat.NO_CONVERT mantém o conteúdo do arquivo JSON do notebook sem conversões ou atualizações ao lê-lo.\\n\\n    rows = [] # Cria uma lista vazia que receberá as linhas geradas no loop abaixo.\\n    for cell in nb.cells:\\n         if cell.cell_type == \"code\": # Filtra as células do notebook com base no campo \"cell_type\" e seleciona apenas aquelas em que o valor é \"code\".\\n              cell_type = cell.cell_type # Atribui o valor do campo cell_type da célula atual à variável cell_type.\\n              source = cell.source.strip() # Atribui o valor do campo source da célula atual à variável source. O método .strip() remove espaços em branco extras no início e no final da string.\\n              count_code = 1 if source else 0  # Conta 1 se a source estiver preenchida, 0 caso contrário\\n              rows.append([cell_type, source, count_code]) # Insere as variáveis \"cell_type\", \"source\", \"count_code\" na lista \\'rows\\'\\n\\n    with open(output_file, \\'w\\', encoding=\\'utf-8\\', newline=\\'\\') as file: # Abre o arquivo de saída especificado pelo caminho output_file em modo de escrita (\\'w\\'), com tratamento UTF-8 e sem adicionar novas linhas (newline=\\'\\').\\n         writer = csv.writer(file) # Cria um objeto de escrita CSV que está associado ao arquivo file. Esse objeto será usado posteriormente para escrever dados no arquivo CSV.\\n         writer.writerow([\"cell_type\", \"source\", \"count_code\"]) # Cria o cabeçalho no arquivo CSV usando o objeto writer. Os valores passados como argumento são os nomes das colunas que serão escritas no arquivo CSV: \"cell_type\", \"source\" e \"count_code\".\\n         writer.writerows(rows) # escreve todas as linhas de dados da lista rows no arquivo CSV usando o objeto writer.\\n\\n# Caminho para o arquivo JSON\\njson_file = r\"C:\\\\GitHub\\\\PY-DEV-002_HDI\\\\P_02_Fundamentos\\\\M_01_Tipos\\\\T_01_Primitivos\\\\_1_1_numeric_int_type.ipynb\"\\n\\n\\n# Extrai o nome do arquivo JSON\\njson_name = os.path.basename(json_file)\\n\\n# Constrói o caminho para o arquivo CSV de saída\\noutput_file = os.path.join(r\"C:\\\\GitHub\\\\PY-DEV-002_HDI\\\\P_02_Fundamentos\\\\M_01_Tipos\\\\T_01_Primitivos\", json_name.replace(\".ipynb\", \".csv\"))\\n\\n# Processa o notebook e exporta para CSV\\nprocess_notebook(json_file, output_file)\\n\\n\\nprint(\"Arquivo CSV criado com sucesso:\", output_file)\\n\\n'"
      ]
     },
     "execution_count": 9,
     "metadata": {},
     "output_type": "execute_result"
    }
   ],
   "source": [
    "\"\"\"\n",
    "import nbformat\n",
    "import csv\n",
    "\n",
    "def process_notebook(json_file, output_file): # Cria a função recebe dois parâmetros: json_file, que é o caminho para o arquivo JSON de entrada, e output_file, que é o caminho para o arquivo CSV de saída.\n",
    "    with open(json_file, \"r\", encoding=\"utf-8\") as file: # Abre o arquivo JSON pelo caminho especificado 'json_file' em modo de leitura (\"r\") com tratamento UTF-8, garantindo a leitura correta de caracteres especiais e acentos.\n",
    "         nb = nbformat.read(file, nbformat.NO_CONVERT) # A opção nbformat.NO_CONVERT mantém o conteúdo do arquivo JSON do notebook sem conversões ou atualizações ao lê-lo.\n",
    "\n",
    "    rows = [] # Cria uma lista vazia que receberá as linhas geradas no loop abaixo.\n",
    "    for cell in nb.cells:\n",
    "         if cell.cell_type == \"code\": # Filtra as células do notebook com base no campo \"cell_type\" e seleciona apenas aquelas em que o valor é \"code\".\n",
    "              cell_type = cell.cell_type # Atribui o valor do campo cell_type da célula atual à variável cell_type.\n",
    "              source = cell.source.strip() # Atribui o valor do campo source da célula atual à variável source. O método .strip() remove espaços em branco extras no início e no final da string.\n",
    "              count_code = 1 if source else 0  # Conta 1 se a source estiver preenchida, 0 caso contrário\n",
    "              rows.append([cell_type, source, count_code]) # Insere as variáveis \"cell_type\", \"source\", \"count_code\" na lista 'rows'\n",
    "\n",
    "    with open(output_file, 'w', encoding='utf-8', newline='') as file: # Abre o arquivo de saída especificado pelo caminho output_file em modo de escrita ('w'), com tratamento UTF-8 e sem adicionar novas linhas (newline='').\n",
    "         writer = csv.writer(file) # Cria um objeto de escrita CSV que está associado ao arquivo file. Esse objeto será usado posteriormente para escrever dados no arquivo CSV.\n",
    "         writer.writerow([\"cell_type\", \"source\", \"count_code\"]) # Cria o cabeçalho no arquivo CSV usando o objeto writer. Os valores passados como argumento são os nomes das colunas que serão escritas no arquivo CSV: \"cell_type\", \"source\" e \"count_code\".\n",
    "         writer.writerows(rows) # escreve todas as linhas de dados da lista rows no arquivo CSV usando o objeto writer.\n",
    "\n",
    "# Caminho para o arquivo JSON\n",
    "json_file = r\"C:\\GitHub\\PY-DEV-002_HDI\\P_02_Fundamentos\\M_01_Tipos\\T_01_Primitivos\\_1_1_numeric_int_type.ipynb\"\n",
    "\n",
    "\n",
    "# Extrai o nome do arquivo JSON\n",
    "json_name = os.path.basename(json_file)\n",
    "\n",
    "# Constrói o caminho para o arquivo CSV de saída\n",
    "output_file = os.path.join(r\"C:\\GitHub\\PY-DEV-002_HDI\\P_02_Fundamentos\\M_01_Tipos\\T_01_Primitivos\", json_name.replace(\".ipynb\", \".csv\"))\n",
    "\n",
    "# Processa o notebook e exporta para CSV\n",
    "process_notebook(json_file, output_file)\n",
    "\n",
    "\n",
    "print(\"Arquivo CSV criado com sucesso:\", output_file)\n",
    "\n",
    "\"\"\""
   ]
  }
 ],
 "metadata": {
  "kernelspec": {
   "display_name": "base",
   "language": "python",
   "name": "python3"
  },
  "language_info": {
   "codemirror_mode": {
    "name": "ipython",
    "version": 3
   },
   "file_extension": ".py",
   "mimetype": "text/x-python",
   "name": "python",
   "nbconvert_exporter": "python",
   "pygments_lexer": "ipython3",
   "version": "3.9.13"
  },
  "orig_nbformat": 4
 },
 "nbformat": 4,
 "nbformat_minor": 2
}
